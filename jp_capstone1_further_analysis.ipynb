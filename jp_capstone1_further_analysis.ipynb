{
 "cells": [
  {
   "cell_type": "markdown",
   "metadata": {},
   "source": [
    "# In-depth Analysis of the Blood Donation Dataset\n",
    "### Joseph Petersen - Springboard Capstone 1"
   ]
  },
  {
   "cell_type": "code",
   "execution_count": 1,
   "metadata": {},
   "outputs": [],
   "source": [
    "%matplotlib inline\n",
    "import pandas as pd\n",
    "import numpy as np\n",
    "import matplotlib.pyplot as plt\n",
    "import seaborn as sns\n",
    "import statsmodels.api as sm\n",
    "from scipy import stats\n",
    "from sklearn.model_selection import train_test_split, RandomizedSearchCV, GridSearchCV, cross_val_score\n",
    "from sklearn.linear_model import LogisticRegression\n",
    "from sklearn.metrics import accuracy_score, classification_report, confusion_matrix, f1_score, precision_score, recall_score\n",
    "from sklearn.ensemble import RandomForestClassifier\n",
    "from sklearn.svm import SVC, LinearSVC\n",
    "from sklearn.pipeline import Pipeline\n",
    "from sklearn.preprocessing import RobustScaler\n",
    "from sklearn.neighbors import KNeighborsClassifier\n",
    "from imblearn.over_sampling import SMOTE\n",
    "from sklearn.calibration import CalibratedClassifierCV\n",
    "\n",
    "plt.style.use('ggplot')"
   ]
  },
  {
   "cell_type": "code",
   "execution_count": 2,
   "metadata": {},
   "outputs": [],
   "source": [
    "# Read in the csv file\n",
    "df = pd.read_csv('data/transfusion.csv')\n",
    "# Rename the columns for clarity\n",
    "df.columns = ['months_since_last', 'total_times_donated', 'total_cc_blood_donated', 'months_since_first', \n",
    "              'donated_march_2007']\n",
    "# Calculate the frequency column\n",
    "df['frequency'] = df.months_since_first / df.total_times_donated\n",
    "# Reindex into a more logical structure\n",
    "df = df.reindex(columns=['months_since_first', 'months_since_last', 'total_times_donated', 'total_cc_blood_donated', \n",
    "                         'frequency', 'donated_march_2007'])\n",
    "\n",
    "df_wb = df.copy() # Dataframe with total blood intact\n",
    "df = df.drop('total_cc_blood_donated', axis=1) # Dataframe without total blood\n",
    "df_nf = df.drop('frequency', axis=1) # Dataframe without frequency\n",
    "df_min = df.drop(['months_since_first', 'total_times_donated'], axis=1) # Dataframe just frequency and recency"
   ]
  },
  {
   "cell_type": "code",
   "execution_count": 3,
   "metadata": {},
   "outputs": [
    {
     "name": "stdout",
     "output_type": "stream",
     "text": [
      "<class 'pandas.core.frame.DataFrame'>\n",
      "RangeIndex: 748 entries, 0 to 747\n",
      "Data columns (total 5 columns):\n",
      "months_since_first     748 non-null int64\n",
      "months_since_last      748 non-null int64\n",
      "total_times_donated    748 non-null int64\n",
      "frequency              748 non-null float64\n",
      "donated_march_2007     748 non-null int64\n",
      "dtypes: float64(1), int64(4)\n",
      "memory usage: 29.3 KB\n"
     ]
    }
   ],
   "source": [
    "# Examining the dataset\n",
    "df.info()"
   ]
  },
  {
   "cell_type": "code",
   "execution_count": 4,
   "metadata": {},
   "outputs": [
    {
     "data": {
      "text/html": [
       "<div>\n",
       "<style scoped>\n",
       "    .dataframe tbody tr th:only-of-type {\n",
       "        vertical-align: middle;\n",
       "    }\n",
       "\n",
       "    .dataframe tbody tr th {\n",
       "        vertical-align: top;\n",
       "    }\n",
       "\n",
       "    .dataframe thead th {\n",
       "        text-align: right;\n",
       "    }\n",
       "</style>\n",
       "<table border=\"1\" class=\"dataframe\">\n",
       "  <thead>\n",
       "    <tr style=\"text-align: right;\">\n",
       "      <th></th>\n",
       "      <th>months_since_first</th>\n",
       "      <th>months_since_last</th>\n",
       "      <th>total_times_donated</th>\n",
       "      <th>frequency</th>\n",
       "      <th>donated_march_2007</th>\n",
       "    </tr>\n",
       "  </thead>\n",
       "  <tbody>\n",
       "    <tr>\n",
       "      <th>0</th>\n",
       "      <td>98</td>\n",
       "      <td>2</td>\n",
       "      <td>50</td>\n",
       "      <td>1.960000</td>\n",
       "      <td>1</td>\n",
       "    </tr>\n",
       "    <tr>\n",
       "      <th>1</th>\n",
       "      <td>28</td>\n",
       "      <td>0</td>\n",
       "      <td>13</td>\n",
       "      <td>2.153846</td>\n",
       "      <td>1</td>\n",
       "    </tr>\n",
       "    <tr>\n",
       "      <th>2</th>\n",
       "      <td>35</td>\n",
       "      <td>1</td>\n",
       "      <td>16</td>\n",
       "      <td>2.187500</td>\n",
       "      <td>1</td>\n",
       "    </tr>\n",
       "    <tr>\n",
       "      <th>3</th>\n",
       "      <td>45</td>\n",
       "      <td>2</td>\n",
       "      <td>20</td>\n",
       "      <td>2.250000</td>\n",
       "      <td>1</td>\n",
       "    </tr>\n",
       "    <tr>\n",
       "      <th>4</th>\n",
       "      <td>77</td>\n",
       "      <td>1</td>\n",
       "      <td>24</td>\n",
       "      <td>3.208333</td>\n",
       "      <td>0</td>\n",
       "    </tr>\n",
       "  </tbody>\n",
       "</table>\n",
       "</div>"
      ],
      "text/plain": [
       "   months_since_first  months_since_last  total_times_donated  frequency  \\\n",
       "0                  98                  2                   50   1.960000   \n",
       "1                  28                  0                   13   2.153846   \n",
       "2                  35                  1                   16   2.187500   \n",
       "3                  45                  2                   20   2.250000   \n",
       "4                  77                  1                   24   3.208333   \n",
       "\n",
       "   donated_march_2007  \n",
       "0                   1  \n",
       "1                   1  \n",
       "2                   1  \n",
       "3                   1  \n",
       "4                   0  "
      ]
     },
     "execution_count": 4,
     "metadata": {},
     "output_type": "execute_result"
    }
   ],
   "source": [
    "df.head()"
   ]
  },
  {
   "cell_type": "code",
   "execution_count": 5,
   "metadata": {},
   "outputs": [],
   "source": [
    "def adjusted_threshold(y_scores, t):\n",
    "\n",
    "    # This function adjusts predictions or a probability array based on the threshold 't' value\n",
    "    # It looks at the probability of the '1' in a binary response variable\n",
    "    \n",
    "    return [1 if y[1] >= t else 0 for y in y_scores]\n",
    "\n",
    "def con_mat(model, X_train, X_test, y_train, y_test, y_pred):\n",
    "\n",
    "    # This function takes  train/test and prediction data to produce a\n",
    "    # graphed confusion matrix and classification report\n",
    "    \n",
    "    cm = confusion_matrix(y_test, y_pred)\n",
    "    labels=['Non-Returners', 'Returners']\n",
    "    print(cm)\n",
    "    fig = plt.figure()\n",
    "    ax = fig.add_subplot(111)\n",
    "    cax = ax.matshow(cm)\n",
    "    plt.title('Confusion matrix of donated_march_2007')\n",
    "    ttl = ax.title\n",
    "    ttl.set_position([.5, 1.1])\n",
    "    fig.colorbar(cax)\n",
    "    ax.set_xticklabels([''] + labels)\n",
    "    ax.set_yticklabels([''] + labels)\n",
    "    for i in range(len(labels)):\n",
    "        for j in range(len(labels)):\n",
    "            text = ax.text(j, i, cm[i, j],\n",
    "                           ha=\"center\", va=\"center\", color=\"w\", fontsize=24)\n",
    "    plt.xlabel('Predicted')\n",
    "    plt.ylabel('True')\n",
    "    plt.show()\n",
    "    print(classification_report(y_test, y_pred))\n",
    "    "
   ]
  },
  {
   "cell_type": "markdown",
   "metadata": {},
   "source": [
    "## Model Testing"
   ]
  },
  {
   "cell_type": "code",
   "execution_count": 6,
   "metadata": {},
   "outputs": [
    {
     "name": "stdout",
     "output_type": "stream",
     "text": [
      "Distribution of response variable (full dataset):\n",
      "0    570\n",
      "1    178\n",
      "Name: donated_march_2007, dtype: int64\n",
      "Mean: 0.23796791443850268\n"
     ]
    }
   ],
   "source": [
    "# Checking the distribution of the response variables\n",
    "print(\"Distribution of response variable (full dataset):\")\n",
    "print(df.donated_march_2007.value_counts())\n",
    "print(\"Mean:\", df.donated_march_2007.mean())"
   ]
  },
  {
   "cell_type": "markdown",
   "metadata": {},
   "source": [
    "The response variable is unbalanced. Only about 24% of the response column is a returner (1) with the rest being non-returners (0). We're going to balance it by upsampling using `SMOTE`, but first we need to split the data into training/testing sets and scale the data for consistency. To reduce the influence of outliers, we'll use `RobustScaler`."
   ]
  },
  {
   "cell_type": "code",
   "execution_count": 81,
   "metadata": {},
   "outputs": [
    {
     "name": "stdout",
     "output_type": "stream",
     "text": [
      "Distribution of response variable (training set):\n",
      "0    425\n",
      "1    136\n",
      "dtype: int64\n",
      "Mean: 0.24242424242424243\n"
     ]
    }
   ],
   "source": [
    "# Split the data into training/testing sets\n",
    "X_train, X_test, y_train, y_test = train_test_split(df.drop('donated_march_2007', axis=1).values, \n",
    "                                             df.donated_march_2007.values, random_state=23, test_size=0.25)\n",
    "\n",
    "print(\"Distribution of response variable (training set):\")\n",
    "print(pd.Series(y_train).value_counts())\n",
    "print(\"Mean:\", y_train.mean())"
   ]
  },
  {
   "cell_type": "code",
   "execution_count": 82,
   "metadata": {},
   "outputs": [
    {
     "data": {
      "text/plain": [
       "RobustScaler(copy=True, quantile_range=(25.0, 75.0), with_centering=True,\n",
       "       with_scaling=True)"
      ]
     },
     "execution_count": 82,
     "metadata": {},
     "output_type": "execute_result"
    }
   ],
   "source": [
    "# Scaling the data, you fit on the training data then transform both the train and test set\n",
    "scaler = RobustScaler()\n",
    "scaler.fit(X_train)"
   ]
  },
  {
   "cell_type": "code",
   "execution_count": 83,
   "metadata": {},
   "outputs": [],
   "source": [
    "# Transforming the train and test features with the scaler\n",
    "X_train = scaler.transform(X_train)\n",
    "X_test = scaler.transform(X_test)"
   ]
  },
  {
   "cell_type": "code",
   "execution_count": 84,
   "metadata": {},
   "outputs": [
    {
     "name": "stdout",
     "output_type": "stream",
     "text": [
      "Distribution of response variable (upscaled training set):\n",
      "1    425\n",
      "0    425\n",
      "dtype: int64\n",
      "Mean: 0.5\n"
     ]
    }
   ],
   "source": [
    "# Upsampling the training set\n",
    "smt = SMOTE(random_state=23)\n",
    "X_train, y_train = smt.fit_sample(X_train, y_train)\n",
    "\n",
    "print(\"Distribution of response variable (upscaled training set):\")\n",
    "print(pd.Series(y_train).value_counts())\n",
    "print(\"Mean:\", y_train.mean())"
   ]
  },
  {
   "cell_type": "markdown",
   "metadata": {},
   "source": [
    "With the data now scaled and upsampled, we can move on to model testing."
   ]
  },
  {
   "cell_type": "code",
   "execution_count": 85,
   "metadata": {},
   "outputs": [],
   "source": [
    "# Instantiating the models and creating a function to test them all\n",
    "logreg = LogisticRegression(solver='liblinear', random_state=23)\n",
    "linsvm = LinearSVC(dual=False, random_state=23)\n",
    "rfc = RandomForestClassifier(random_state=23)\n",
    "svm_rbf = SVC(kernel='rbf')\n",
    "svm_poly = SVC(kernel='poly')\n",
    "knn = KNeighborsClassifier()\n",
    "\n",
    "algs = {'LR': logreg,\n",
    "        'LinSVM': linsvm,\n",
    "        'RFC': rfc,\n",
    "        'SVM_RBF': svm_rbf,\n",
    "        'SVM_POLY': svm_poly,\n",
    "        'KNN': knn}\n",
    "\n",
    "perf_df = pd.DataFrame(columns=['accuracy', 'precision', 'recall', 'f1', 'mae'], index = algs.keys())\n",
    "\n",
    "def model_test(algs):\n",
    "    \n",
    "    # This function takes a dictionary an instantiated models\n",
    "    # fits and places the scores in a dataframe\n",
    "    \n",
    "    for name, alg in algs.items():\n",
    "        alg.fit(X_train, y_train)\n",
    "        pred = alg.predict(X_test)\n",
    "        mae = np.mean(abs(pred - y_test))\n",
    "        \n",
    "        \n",
    "        perf_df.loc[name].accuracy = accuracy_score(y_test, pred)\n",
    "        perf_df.loc[name].precision = precision_score(y_test, pred)\n",
    "        perf_df.loc[name].recall = recall_score(y_test, pred)\n",
    "        perf_df.loc[name].f1 = f1_score(y_test, pred)\n",
    "        perf_df.loc[name].mae = mae\n",
    "        "
   ]
  },
  {
   "cell_type": "code",
   "execution_count": 86,
   "metadata": {},
   "outputs": [
    {
     "name": "stderr",
     "output_type": "stream",
     "text": [
      "/Users/josephpetersen/miniconda3/envs/springboard/lib/python3.7/site-packages/sklearn/ensemble/forest.py:246: FutureWarning: The default value of n_estimators will change from 10 in version 0.20 to 100 in 0.22.\n",
      "  \"10 in version 0.20 to 100 in 0.22.\", FutureWarning)\n",
      "/Users/josephpetersen/miniconda3/envs/springboard/lib/python3.7/site-packages/sklearn/svm/base.py:196: FutureWarning: The default value of gamma will change from 'auto' to 'scale' in version 0.22 to account better for unscaled features. Set gamma explicitly to 'auto' or 'scale' to avoid this warning.\n",
      "  \"avoid this warning.\", FutureWarning)\n",
      "/Users/josephpetersen/miniconda3/envs/springboard/lib/python3.7/site-packages/sklearn/svm/base.py:196: FutureWarning: The default value of gamma will change from 'auto' to 'scale' in version 0.22 to account better for unscaled features. Set gamma explicitly to 'auto' or 'scale' to avoid this warning.\n",
      "  \"avoid this warning.\", FutureWarning)\n"
     ]
    }
   ],
   "source": [
    "model_test(algs)"
   ]
  },
  {
   "cell_type": "code",
   "execution_count": 87,
   "metadata": {},
   "outputs": [
    {
     "data": {
      "text/html": [
       "<div>\n",
       "<style scoped>\n",
       "    .dataframe tbody tr th:only-of-type {\n",
       "        vertical-align: middle;\n",
       "    }\n",
       "\n",
       "    .dataframe tbody tr th {\n",
       "        vertical-align: top;\n",
       "    }\n",
       "\n",
       "    .dataframe thead th {\n",
       "        text-align: right;\n",
       "    }\n",
       "</style>\n",
       "<table border=\"1\" class=\"dataframe\">\n",
       "  <thead>\n",
       "    <tr style=\"text-align: right;\">\n",
       "      <th></th>\n",
       "      <th>accuracy</th>\n",
       "      <th>precision</th>\n",
       "      <th>recall</th>\n",
       "      <th>f1</th>\n",
       "      <th>mae</th>\n",
       "    </tr>\n",
       "  </thead>\n",
       "  <tbody>\n",
       "    <tr>\n",
       "      <th>LR</th>\n",
       "      <td>0.641711</td>\n",
       "      <td>0.345679</td>\n",
       "      <td>0.666667</td>\n",
       "      <td>0.455285</td>\n",
       "      <td>0.358289</td>\n",
       "    </tr>\n",
       "    <tr>\n",
       "      <th>LinSVM</th>\n",
       "      <td>0.652406</td>\n",
       "      <td>0.358025</td>\n",
       "      <td>0.690476</td>\n",
       "      <td>0.471545</td>\n",
       "      <td>0.347594</td>\n",
       "    </tr>\n",
       "    <tr>\n",
       "      <th>RFC</th>\n",
       "      <td>0.700535</td>\n",
       "      <td>0.333333</td>\n",
       "      <td>0.333333</td>\n",
       "      <td>0.333333</td>\n",
       "      <td>0.299465</td>\n",
       "    </tr>\n",
       "    <tr>\n",
       "      <th>SVM_RBF</th>\n",
       "      <td>0.727273</td>\n",
       "      <td>0.418182</td>\n",
       "      <td>0.547619</td>\n",
       "      <td>0.474227</td>\n",
       "      <td>0.272727</td>\n",
       "    </tr>\n",
       "    <tr>\n",
       "      <th>SVM_POLY</th>\n",
       "      <td>0.486631</td>\n",
       "      <td>0.282258</td>\n",
       "      <td>0.833333</td>\n",
       "      <td>0.421687</td>\n",
       "      <td>0.513369</td>\n",
       "    </tr>\n",
       "    <tr>\n",
       "      <th>KNN</th>\n",
       "      <td>0.668449</td>\n",
       "      <td>0.314815</td>\n",
       "      <td>0.404762</td>\n",
       "      <td>0.354167</td>\n",
       "      <td>0.331551</td>\n",
       "    </tr>\n",
       "  </tbody>\n",
       "</table>\n",
       "</div>"
      ],
      "text/plain": [
       "          accuracy precision    recall        f1       mae\n",
       "LR        0.641711  0.345679  0.666667  0.455285  0.358289\n",
       "LinSVM    0.652406  0.358025  0.690476  0.471545  0.347594\n",
       "RFC       0.700535  0.333333  0.333333  0.333333  0.299465\n",
       "SVM_RBF   0.727273  0.418182  0.547619  0.474227  0.272727\n",
       "SVM_POLY  0.486631  0.282258  0.833333  0.421687  0.513369\n",
       "KNN       0.668449  0.314815  0.404762  0.354167  0.331551"
      ]
     },
     "execution_count": 87,
     "metadata": {},
     "output_type": "execute_result"
    }
   ],
   "source": [
    "# The model performance dataframe\n",
    "perf_df"
   ]
  },
  {
   "cell_type": "code",
   "execution_count": 88,
   "metadata": {},
   "outputs": [
    {
     "data": {
      "text/plain": [
       "Text(0, 0.5, 'MAE')"
      ]
     },
     "execution_count": 88,
     "metadata": {},
     "output_type": "execute_result"
    },
    {
     "data": {
      "image/png": "[encoded data removed]",
      "text/plain": [
       "<Figure size 1080x720 with 1 Axes>"
      ]
     },
     "metadata": {
      "needs_background": "light"
     },
     "output_type": "display_data"
    }
   ],
   "source": [
    "# Visualizing MAE\n",
    "perf_df.mae.sort_values().plot(kind='bar', title='Model Mean Absolute Errors', figsize=[15,10])\n",
    "plt.ylabel('MAE')"
   ]
  },
  {
   "cell_type": "markdown",
   "metadata": {},
   "source": [
    "The `RandomForestClassifier` has the lowest mean absolute error, and having a low MAE is a good thing. However, we should look at recall as well as that's the primary metric by which we can measure success given the needs of the client."
   ]
  },
  {
   "cell_type": "code",
   "execution_count": 89,
   "metadata": {},
   "outputs": [
    {
     "data": {
      "text/plain": [
       "Text(0, 0.5, 'Recall')"
      ]
     },
     "execution_count": 89,
     "metadata": {},
     "output_type": "execute_result"
    },
    {
     "data": {
      "image/png": "[encoded data removed]",
      "text/plain": [
       "<Figure size 1080x720 with 1 Axes>"
      ]
     },
     "metadata": {
      "needs_background": "light"
     },
     "output_type": "display_data"
    }
   ],
   "source": [
    "# Visualizing recall\n",
    "perf_df.recall.sort_values().plot(kind='bar', title='Model Recalls', figsize=[15,10])\n",
    "plt.ylabel('Recall')"
   ]
  },
  {
   "cell_type": "markdown",
   "metadata": {},
   "source": [
    "The `LogisticRegression` and `LinearSVC` models are very similar across the board which isn't super surprising. The models are very similar as they only differ in the loss function. `LinearSVM` minimizes hinge loss while `LogisticRegression` minimizes logistic loss. In this case, we will move forward with tuning the parameters of the `LinearSVC` model as it has a good recall score and moderate mean absolute error. It also has a decent F1 score which balances precision and recall. We will use `GridSearchCV` to go over the training data in folds and test various parameters. We will score the search on recall in order to maximize that score given the clients needs."
   ]
  },
  {
   "cell_type": "code",
   "execution_count": 95,
   "metadata": {},
   "outputs": [
    {
     "name": "stdout",
     "output_type": "stream",
     "text": [
      "CPU times: user 59.5 ms, sys: 4.93 ms, total: 64.5 ms\n",
      "Wall time: 182 ms\n"
     ]
    },
    {
     "data": {
      "text/plain": [
       "GridSearchCV(cv=5, error_score='raise-deprecating',\n",
       "       estimator=LinearSVC(C=1.0, class_weight=None, dual=False, fit_intercept=True,\n",
       "     intercept_scaling=1, loss='squared_hinge', max_iter=1000,\n",
       "     multi_class='ovr', penalty='l2', random_state=23, tol=0.0001,\n",
       "     verbose=0),\n",
       "       fit_params=None, iid='warn', n_jobs=-1,\n",
       "       param_grid={'penalty': ['l1', 'l2'], 'C': [0.001, 0.001, 0.01, 0.1, 1, 10, 100, 1000]},\n",
       "       pre_dispatch='2*n_jobs', refit=True, return_train_score='warn',\n",
       "       scoring='accuracy', verbose=0)"
      ]
     },
     "execution_count": 95,
     "metadata": {},
     "output_type": "execute_result"
    }
   ],
   "source": [
    "param_grid = {'penalty': ['l1', 'l2'],\n",
    "              'C': [0.001, 0.001, 0.01, 0.1, 1, 10, 100, 1000]}\n",
    "\n",
    "linsvm = LinearSVC(random_state=23, dual=False)\n",
    "linsvm_gs = GridSearchCV(linsvm, param_grid, cv=5, n_jobs=-1, scoring='accuracy')\n",
    "%time linsvm_gs.fit(X_train, y_train)"
   ]
  },
  {
   "cell_type": "code",
   "execution_count": 96,
   "metadata": {},
   "outputs": [
    {
     "name": "stdout",
     "output_type": "stream",
     "text": [
      "Tuned SVM Parameters: {'C': 0.1, 'penalty': 'l2'}\n",
      "Best score: 0.7129411764705882\n"
     ]
    }
   ],
   "source": [
    "print(\"Tuned SVM Parameters: {}\".format(linsvm_gs.best_params_)) \n",
    "print(\"Best score: {}\".format(linsvm_gs.best_score_))"
   ]
  },
  {
   "cell_type": "code",
   "execution_count": 98,
   "metadata": {},
   "outputs": [
    {
     "name": "stdout",
     "output_type": "stream",
     "text": [
      "CPU times: user 51.3 ms, sys: 3.84 ms, total: 55.2 ms\n",
      "Wall time: 164 ms\n"
     ]
    },
    {
     "data": {
      "text/plain": [
       "GridSearchCV(cv=5, error_score='raise-deprecating',\n",
       "       estimator=LinearSVC(C=1.0, class_weight=None, dual=False, fit_intercept=True,\n",
       "     intercept_scaling=1, loss='squared_hinge', max_iter=1000,\n",
       "     multi_class='ovr', penalty='l2', random_state=23, tol=0.0001,\n",
       "     verbose=0),\n",
       "       fit_params=None, iid='warn', n_jobs=-1,\n",
       "       param_grid={'penalty': ['l1', 'l2'], 'C': [0.04, 0.06, 0.08, 0.1, 0.12, 0.14, 0.16]},\n",
       "       pre_dispatch='2*n_jobs', refit=True, return_train_score='warn',\n",
       "       scoring='accuracy', verbose=0)"
      ]
     },
     "execution_count": 98,
     "metadata": {},
     "output_type": "execute_result"
    }
   ],
   "source": [
    "param_grid = {'penalty': ['l1', 'l2'],\n",
    "              'C': [0.04, 0.06, 0.08, 0.1, 0.12, 0.14, 0.16]}\n",
    "\n",
    "linsvm = LinearSVC(dual=False, random_state=23)\n",
    "linsvm_gs = GridSearchCV(linsvm, param_grid, cv=5, n_jobs=-1, scoring='accuracy')\n",
    "%time linsvm_gs.fit(X_train, y_train)"
   ]
  },
  {
   "cell_type": "code",
   "execution_count": 99,
   "metadata": {},
   "outputs": [
    {
     "name": "stdout",
     "output_type": "stream",
     "text": [
      "Tuned SVM Parameters: {'C': 0.1, 'penalty': 'l2'}\n",
      "Best score: 0.7129411764705882\n"
     ]
    }
   ],
   "source": [
    "print(\"Tuned SVM Parameters: {}\".format(svm_gs.best_params_)) \n",
    "print(\"Best score: {}\".format(svm_gs.best_score_))"
   ]
  },
  {
   "cell_type": "code",
   "execution_count": 101,
   "metadata": {},
   "outputs": [
    {
     "name": "stdout",
     "output_type": "stream",
     "text": [
      "[[92 53]\n",
      " [13 29]]\n"
     ]
    },
    {
     "data": {
      "image/png": "[encoded data removed]",
      "text/plain": [
       "<Figure size 432x288 with 2 Axes>"
      ]
     },
     "metadata": {
      "needs_background": "light"
     },
     "output_type": "display_data"
    },
    {
     "name": "stdout",
     "output_type": "stream",
     "text": [
      "              precision    recall  f1-score   support\n",
      "\n",
      "           0       0.88      0.63      0.74       145\n",
      "           1       0.35      0.69      0.47        42\n",
      "\n",
      "   micro avg       0.65      0.65      0.65       187\n",
      "   macro avg       0.61      0.66      0.60       187\n",
      "weighted avg       0.76      0.65      0.68       187\n",
      "\n"
     ]
    }
   ],
   "source": [
    "best_linsvm = LinearSVC(dual=False, random_state=23, C=0.1, penalty='l2')\n",
    "best_linsvm.fit(X_train, y_train)\n",
    "\n",
    "y_pred = best_linsvm.predict(X_test)\n",
    "con_mat(best_linsvm, X_train, X_test, y_train, y_test, y_pred)"
   ]
  },
  {
   "cell_type": "markdown",
   "metadata": {},
   "source": [
    "### Trying Smaller Dataset"
   ]
  },
  {
   "cell_type": "code",
   "execution_count": 29,
   "metadata": {},
   "outputs": [
    {
     "name": "stdout",
     "output_type": "stream",
     "text": [
      "Distribution of response variable (training set):\n",
      "0    425\n",
      "1    136\n",
      "dtype: int64\n",
      "Mean: 0.24242424242424243\n"
     ]
    }
   ],
   "source": [
    "# Split the data into training/testing sets\n",
    "X_train, X_test, y_train, y_test = train_test_split(df_min.drop('donated_march_2007', axis=1).values, \n",
    "                                             df_min.donated_march_2007.values, random_state=23, test_size=0.25)\n",
    "\n",
    "print(\"Distribution of response variable (training set):\")\n",
    "print(pd.Series(y_train).value_counts())\n",
    "print(\"Mean:\", y_train.mean())"
   ]
  },
  {
   "cell_type": "code",
   "execution_count": 30,
   "metadata": {},
   "outputs": [
    {
     "data": {
      "text/plain": [
       "RobustScaler(copy=True, quantile_range=(25.0, 75.0), with_centering=True,\n",
       "       with_scaling=True)"
      ]
     },
     "execution_count": 30,
     "metadata": {},
     "output_type": "execute_result"
    }
   ],
   "source": [
    "# Scaling the data, you fit on the training data then transform both the train and test set\n",
    "scaler = RobustScaler()\n",
    "scaler.fit(X_train)"
   ]
  },
  {
   "cell_type": "code",
   "execution_count": 31,
   "metadata": {},
   "outputs": [],
   "source": [
    "# Transforming the train and test features with the scaler\n",
    "X_train = scaler.transform(X_train)\n",
    "X_test = scaler.transform(X_test)"
   ]
  },
  {
   "cell_type": "code",
   "execution_count": 32,
   "metadata": {},
   "outputs": [
    {
     "name": "stdout",
     "output_type": "stream",
     "text": [
      "Distribution of response variable (upscaled training set):\n",
      "1    425\n",
      "0    425\n",
      "dtype: int64\n",
      "Mean: 0.5\n"
     ]
    }
   ],
   "source": [
    "# Upsampling the training set\n",
    "smt = SMOTE()\n",
    "X_train, y_train = smt.fit_sample(X_train, y_train)\n",
    "\n",
    "print(\"Distribution of response variable (upscaled training set):\")\n",
    "print(pd.Series(y_train).value_counts())\n",
    "print(\"Mean:\", y_train.mean())"
   ]
  },
  {
   "cell_type": "markdown",
   "metadata": {},
   "source": [
    "With the data now scaled and upsampled, we can move on to model testing."
   ]
  },
  {
   "cell_type": "code",
   "execution_count": 34,
   "metadata": {},
   "outputs": [
    {
     "name": "stderr",
     "output_type": "stream",
     "text": [
      "/Users/josephpetersen/miniconda3/envs/springboard/lib/python3.7/site-packages/sklearn/ensemble/forest.py:246: FutureWarning: The default value of n_estimators will change from 10 in version 0.20 to 100 in 0.22.\n",
      "  \"10 in version 0.20 to 100 in 0.22.\", FutureWarning)\n",
      "/Users/josephpetersen/miniconda3/envs/springboard/lib/python3.7/site-packages/sklearn/svm/base.py:196: FutureWarning: The default value of gamma will change from 'auto' to 'scale' in version 0.22 to account better for unscaled features. Set gamma explicitly to 'auto' or 'scale' to avoid this warning.\n",
      "  \"avoid this warning.\", FutureWarning)\n",
      "/Users/josephpetersen/miniconda3/envs/springboard/lib/python3.7/site-packages/sklearn/svm/base.py:196: FutureWarning: The default value of gamma will change from 'auto' to 'scale' in version 0.22 to account better for unscaled features. Set gamma explicitly to 'auto' or 'scale' to avoid this warning.\n",
      "  \"avoid this warning.\", FutureWarning)\n"
     ]
    }
   ],
   "source": [
    "model_test(algs)"
   ]
  },
  {
   "cell_type": "code",
   "execution_count": 35,
   "metadata": {},
   "outputs": [
    {
     "data": {
      "text/html": [
       "<div>\n",
       "<style scoped>\n",
       "    .dataframe tbody tr th:only-of-type {\n",
       "        vertical-align: middle;\n",
       "    }\n",
       "\n",
       "    .dataframe tbody tr th {\n",
       "        vertical-align: top;\n",
       "    }\n",
       "\n",
       "    .dataframe thead th {\n",
       "        text-align: right;\n",
       "    }\n",
       "</style>\n",
       "<table border=\"1\" class=\"dataframe\">\n",
       "  <thead>\n",
       "    <tr style=\"text-align: right;\">\n",
       "      <th></th>\n",
       "      <th>accuracy</th>\n",
       "      <th>precision</th>\n",
       "      <th>recall</th>\n",
       "      <th>f1</th>\n",
       "      <th>mae</th>\n",
       "    </tr>\n",
       "  </thead>\n",
       "  <tbody>\n",
       "    <tr>\n",
       "      <th>LR</th>\n",
       "      <td>0.641711</td>\n",
       "      <td>0.349398</td>\n",
       "      <td>0.690476</td>\n",
       "      <td>0.464</td>\n",
       "      <td>0.358289</td>\n",
       "    </tr>\n",
       "    <tr>\n",
       "      <th>LinSVM</th>\n",
       "      <td>0.631016</td>\n",
       "      <td>0.341176</td>\n",
       "      <td>0.690476</td>\n",
       "      <td>0.456693</td>\n",
       "      <td>0.368984</td>\n",
       "    </tr>\n",
       "    <tr>\n",
       "      <th>RFC</th>\n",
       "      <td>0.73262</td>\n",
       "      <td>0.375</td>\n",
       "      <td>0.285714</td>\n",
       "      <td>0.324324</td>\n",
       "      <td>0.26738</td>\n",
       "    </tr>\n",
       "    <tr>\n",
       "      <th>SVM_RBF</th>\n",
       "      <td>0.636364</td>\n",
       "      <td>0.341463</td>\n",
       "      <td>0.666667</td>\n",
       "      <td>0.451613</td>\n",
       "      <td>0.363636</td>\n",
       "    </tr>\n",
       "    <tr>\n",
       "      <th>SVM_POLY</th>\n",
       "      <td>0.433155</td>\n",
       "      <td>0.257576</td>\n",
       "      <td>0.809524</td>\n",
       "      <td>0.390805</td>\n",
       "      <td>0.566845</td>\n",
       "    </tr>\n",
       "    <tr>\n",
       "      <th>KNN</th>\n",
       "      <td>0.700535</td>\n",
       "      <td>0.365385</td>\n",
       "      <td>0.452381</td>\n",
       "      <td>0.404255</td>\n",
       "      <td>0.299465</td>\n",
       "    </tr>\n",
       "  </tbody>\n",
       "</table>\n",
       "</div>"
      ],
      "text/plain": [
       "          accuracy precision    recall        f1       mae\n",
       "LR        0.641711  0.349398  0.690476     0.464  0.358289\n",
       "LinSVM    0.631016  0.341176  0.690476  0.456693  0.368984\n",
       "RFC        0.73262     0.375  0.285714  0.324324   0.26738\n",
       "SVM_RBF   0.636364  0.341463  0.666667  0.451613  0.363636\n",
       "SVM_POLY  0.433155  0.257576  0.809524  0.390805  0.566845\n",
       "KNN       0.700535  0.365385  0.452381  0.404255  0.299465"
      ]
     },
     "execution_count": 35,
     "metadata": {},
     "output_type": "execute_result"
    }
   ],
   "source": [
    "# The model performance dataframe\n",
    "perf_df"
   ]
  },
  {
   "cell_type": "code",
   "execution_count": 36,
   "metadata": {},
   "outputs": [
    {
     "data": {
      "text/plain": [
       "Text(0, 0.5, 'MAE')"
      ]
     },
     "execution_count": 36,
     "metadata": {},
     "output_type": "execute_result"
    },
    {
     "data": {
      "image/png": "[encoded data removed]",
      "text/plain": [
       "<Figure size 1080x720 with 1 Axes>"
      ]
     },
     "metadata": {
      "needs_background": "light"
     },
     "output_type": "display_data"
    }
   ],
   "source": [
    "# Visualizing MAE\n",
    "perf_df.mae.sort_values().plot(kind='bar', title='Model Mean Absolute Errors', figsize=[15,10])\n",
    "plt.ylabel('MAE')"
   ]
  },
  {
   "cell_type": "markdown",
   "metadata": {},
   "source": [
    "The `RandomForestClassifier` has the lowest mean absolute error, but we should look at recall as well as that's the primary metric by which we can measure success given the needs of the client."
   ]
  },
  {
   "cell_type": "code",
   "execution_count": 37,
   "metadata": {},
   "outputs": [
    {
     "data": {
      "text/plain": [
       "Text(0, 0.5, 'Recall')"
      ]
     },
     "execution_count": 37,
     "metadata": {},
     "output_type": "execute_result"
    },
    {
     "data": {
      "image/png": "[encoded data removed]",
      "text/plain": [
       "<Figure size 1080x720 with 1 Axes>"
      ]
     },
     "metadata": {
      "needs_background": "light"
     },
     "output_type": "display_data"
    }
   ],
   "source": [
    "# Visualizing recall\n",
    "perf_df.recall.sort_values().plot(kind='bar', title='Model Recalls', figsize=[15,10])\n",
    "plt.ylabel('Recall')"
   ]
  },
  {
   "cell_type": "code",
   "execution_count": 43,
   "metadata": {},
   "outputs": [
    {
     "name": "stdout",
     "output_type": "stream",
     "text": [
      "CPU times: user 66.5 ms, sys: 4.11 ms, total: 70.6 ms\n",
      "Wall time: 141 ms\n"
     ]
    },
    {
     "data": {
      "text/plain": [
       "GridSearchCV(cv=5, error_score='raise-deprecating',\n",
       "       estimator=LogisticRegression(C=1.0, class_weight=None, dual=False, fit_intercept=True,\n",
       "          intercept_scaling=1, max_iter=100, multi_class='warn',\n",
       "          n_jobs=None, penalty='l2', random_state=23, solver='liblinear',\n",
       "          tol=0.0001, verbose=0, warm_start=False),\n",
       "       fit_params=None, iid='warn', n_jobs=-1,\n",
       "       param_grid={'C': [0.001, 0.001, 0.01, 0.1, 1, 10, 100, 1000], 'penalty': ['l1', 'l2']},\n",
       "       pre_dispatch='2*n_jobs', refit=True, return_train_score='warn',\n",
       "       scoring='accuracy', verbose=0)"
      ]
     },
     "execution_count": 43,
     "metadata": {},
     "output_type": "execute_result"
    }
   ],
   "source": [
    "param_grid = {'C': [0.001, 0.001, 0.01, 0.1, 1, 10, 100, 1000],\n",
    "              'penalty': ['l1', 'l2']}\n",
    "\n",
    "lr = LogisticRegression(solver='liblinear', random_state=23)\n",
    "lr_gs = GridSearchCV(lr, param_grid, cv=5, n_jobs=-1, scoring='accuracy')\n",
    "%time lr_gs.fit(X_train, y_train)"
   ]
  },
  {
   "cell_type": "code",
   "execution_count": 44,
   "metadata": {},
   "outputs": [
    {
     "name": "stdout",
     "output_type": "stream",
     "text": [
      "Tuned LR Parameters: {'C': 0.1, 'penalty': 'l1'}\n",
      "Best score: 0.7188235294117648\n"
     ]
    }
   ],
   "source": [
    "print(\"Tuned LR Parameters: {}\".format(lr_gs.best_params_)) \n",
    "print(\"Best score: {}\".format(lr_gs.best_score_))"
   ]
  },
  {
   "cell_type": "code",
   "execution_count": 45,
   "metadata": {},
   "outputs": [
    {
     "name": "stdout",
     "output_type": "stream",
     "text": [
      "CPU times: user 69.1 ms, sys: 4.15 ms, total: 73.2 ms\n",
      "Wall time: 166 ms\n"
     ]
    },
    {
     "data": {
      "text/plain": [
       "GridSearchCV(cv=5, error_score='raise-deprecating',\n",
       "       estimator=LogisticRegression(C=1.0, class_weight=None, dual=False, fit_intercept=True,\n",
       "          intercept_scaling=1, max_iter=100, multi_class='warn',\n",
       "          n_jobs=None, penalty='l2', random_state=23, solver='liblinear',\n",
       "          tol=0.0001, verbose=0, warm_start=False),\n",
       "       fit_params=None, iid='warn', n_jobs=-1,\n",
       "       param_grid={'C': [0.05, 0.06, 0.07, 0.08, 0.09, 0.1, 1.1, 1.2, 1.3, 1.4, 1.5], 'penalty': ['l1', 'l2']},\n",
       "       pre_dispatch='2*n_jobs', refit=True, return_train_score='warn',\n",
       "       scoring='accuracy', verbose=0)"
      ]
     },
     "execution_count": 45,
     "metadata": {},
     "output_type": "execute_result"
    }
   ],
   "source": [
    "param_grid = {'C': [0.05, 0.06, 0.07, 0.08, 0.09, 0.1, 1.1, 1.2, 1.3, 1.4, 1.5],\n",
    "              'penalty': ['l1', 'l2']}\n",
    "\n",
    "lr = LogisticRegression(solver='liblinear', random_state=23)\n",
    "lr_gs = GridSearchCV(lr, param_grid, cv=5, n_jobs=-1, scoring='accuracy')\n",
    "%time lr_gs.fit(X_train, y_train)"
   ]
  },
  {
   "cell_type": "code",
   "execution_count": 46,
   "metadata": {},
   "outputs": [
    {
     "name": "stdout",
     "output_type": "stream",
     "text": [
      "Tuned LR Parameters: {'C': 0.05, 'penalty': 'l1'}\n",
      "Best score: 0.7188235294117648\n"
     ]
    }
   ],
   "source": [
    "print(\"Tuned LR Parameters: {}\".format(lr_gs.best_params_)) \n",
    "print(\"Best score: {}\".format(lr_gs.best_score_))"
   ]
  },
  {
   "cell_type": "code",
   "execution_count": 47,
   "metadata": {},
   "outputs": [
    {
     "name": "stdout",
     "output_type": "stream",
     "text": [
      "CPU times: user 42.1 ms, sys: 3.51 ms, total: 45.6 ms\n",
      "Wall time: 131 ms\n"
     ]
    },
    {
     "data": {
      "text/plain": [
       "GridSearchCV(cv=5, error_score='raise-deprecating',\n",
       "       estimator=LogisticRegression(C=1.0, class_weight=None, dual=False, fit_intercept=True,\n",
       "          intercept_scaling=1, max_iter=100, multi_class='warn',\n",
       "          n_jobs=None, penalty='l2', random_state=23, solver='liblinear',\n",
       "          tol=0.0001, verbose=0, warm_start=False),\n",
       "       fit_params=None, iid='warn', n_jobs=-1,\n",
       "       param_grid={'C': [0.01, 0.02, 0.03, 0.04, 0.05], 'penalty': ['l1', 'l2']},\n",
       "       pre_dispatch='2*n_jobs', refit=True, return_train_score='warn',\n",
       "       scoring='accuracy', verbose=0)"
      ]
     },
     "execution_count": 47,
     "metadata": {},
     "output_type": "execute_result"
    }
   ],
   "source": [
    "param_grid = {'C': [0.01, 0.02, 0.03, 0.04, 0.05],\n",
    "              'penalty': ['l1', 'l2']}\n",
    "\n",
    "lr = LogisticRegression(solver='liblinear', random_state=23)\n",
    "lr_gs = GridSearchCV(lr, param_grid, cv=5, n_jobs=-1, scoring='accuracy')\n",
    "%time lr_gs.fit(X_train, y_train)"
   ]
  },
  {
   "cell_type": "code",
   "execution_count": 48,
   "metadata": {},
   "outputs": [
    {
     "name": "stdout",
     "output_type": "stream",
     "text": [
      "Tuned LR Parameters: {'C': 0.04, 'penalty': 'l1'}\n",
      "Best score: 0.7188235294117648\n"
     ]
    }
   ],
   "source": [
    "print(\"Tuned LR Parameters: {}\".format(lr_gs.best_params_)) \n",
    "print(\"Best score: {}\".format(lr_gs.best_score_))"
   ]
  },
  {
   "cell_type": "code",
   "execution_count": 50,
   "metadata": {},
   "outputs": [
    {
     "name": "stdout",
     "output_type": "stream",
     "text": [
      "[[91 54]\n",
      " [14 28]]\n"
     ]
    },
    {
     "data": {
      "image/png": "[encoded data removed]",
      "text/plain": [
       "<Figure size 432x288 with 2 Axes>"
      ]
     },
     "metadata": {
      "needs_background": "light"
     },
     "output_type": "display_data"
    },
    {
     "name": "stdout",
     "output_type": "stream",
     "text": [
      "              precision    recall  f1-score   support\n",
      "\n",
      "           0       0.87      0.63      0.73       145\n",
      "           1       0.34      0.67      0.45        42\n",
      "\n",
      "   micro avg       0.64      0.64      0.64       187\n",
      "   macro avg       0.60      0.65      0.59       187\n",
      "weighted avg       0.75      0.64      0.67       187\n",
      "\n"
     ]
    }
   ],
   "source": [
    "best_lr = LogisticRegression(solver='liblinear', random_state=23, C=0.04, penalty='l1')\n",
    "best_lr.fit(X_train, y_train)\n",
    "\n",
    "y_pred = best_lr.predict(X_test)\n",
    "con_mat(best_lr, X_train, X_test, y_train, y_test, y_pred)"
   ]
  },
  {
   "cell_type": "code",
   "execution_count": 74,
   "metadata": {},
   "outputs": [
    {
     "name": "stdout",
     "output_type": "stream",
     "text": [
      "[[88 57]\n",
      " [12 30]]\n"
     ]
    },
    {
     "data": {
      "image/png": "[encoded data removed]",
      "text/plain": [
       "<Figure size 432x288 with 2 Axes>"
      ]
     },
     "metadata": {
      "needs_background": "light"
     },
     "output_type": "display_data"
    },
    {
     "name": "stdout",
     "output_type": "stream",
     "text": [
      "              precision    recall  f1-score   support\n",
      "\n",
      "           0       0.88      0.61      0.72       145\n",
      "           1       0.34      0.71      0.47        42\n",
      "\n",
      "   micro avg       0.63      0.63      0.63       187\n",
      "   macro avg       0.61      0.66      0.59       187\n",
      "weighted avg       0.76      0.63      0.66       187\n",
      "\n"
     ]
    }
   ],
   "source": [
    "y_pred = best_lr.predict_proba(X_test)\n",
    "y_pred_adj = adjusted_threshold(y_pred, 0.47)\n",
    "\n",
    "con_mat(best_lr, X_train, X_test, y_train, y_test, y_pred_adj)"
   ]
  },
  {
   "cell_type": "code",
   "execution_count": 76,
   "metadata": {},
   "outputs": [
    {
     "data": {
      "text/plain": [
       "array([[-0.83837838, -0.63235723]])"
      ]
     },
     "execution_count": 76,
     "metadata": {},
     "output_type": "execute_result"
    }
   ],
   "source": [
    "best_lr.coef_"
   ]
  },
  {
   "cell_type": "code",
   "execution_count": null,
   "metadata": {},
   "outputs": [],
   "source": []
  }
 ],
 "metadata": {
  "kernelspec": {
   "display_name": "Python 3",
   "language": "python",
   "name": "python3"
  },
  "language_info": {
   "codemirror_mode": {
    "name": "ipython",
    "version": 3
   },
   "file_extension": ".py",
   "mimetype": "text/x-python",
   "name": "python",
   "nbconvert_exporter": "python",
   "pygments_lexer": "ipython3",
   "version": "3.7.2"
  }
 },
 "nbformat": 4,
 "nbformat_minor": 2
}
